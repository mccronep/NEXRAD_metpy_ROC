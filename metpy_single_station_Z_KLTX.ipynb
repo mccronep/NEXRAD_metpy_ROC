{
 "cells": [
  {
   "cell_type": "code",
   "execution_count": 1,
   "id": "4df4bd6e",
   "metadata": {},
   "outputs": [],
   "source": [
    "import metpy.calc as mpcalc"
   ]
  },
  {
   "cell_type": "code",
   "execution_count": 2,
   "id": "2ebd62c5",
   "metadata": {},
   "outputs": [],
   "source": [
    "import metpy.constants as mpconst"
   ]
  },
  {
   "cell_type": "code",
   "execution_count": 3,
   "id": "5a7a1e70",
   "metadata": {},
   "outputs": [],
   "source": [
    "from siphon.catalog import TDSCatalog"
   ]
  },
  {
   "cell_type": "code",
   "execution_count": 40,
   "id": "5a44ccd1",
   "metadata": {},
   "outputs": [],
   "source": [
    "url='https://thredds.ucar.edu/thredds/catalog/nexrad/level3/N0B/LTX/20220504/catalog.html'"
   ]
  },
  {
   "cell_type": "code",
   "execution_count": 41,
   "id": "686b96a2",
   "metadata": {},
   "outputs": [
    {
     "name": "stdout",
     "output_type": "stream",
     "text": [
      "https://thredds.ucar.edu/thredds/catalog/nexrad/level3/N0B/LTX/20220504/catalog.html\n"
     ]
    }
   ],
   "source": [
    "print(url)"
   ]
  },
  {
   "cell_type": "code",
   "execution_count": 42,
   "id": "13cbd6cd",
   "metadata": {},
   "outputs": [],
   "source": [
    "url_xml = url.replace(\".html\", \".xml\")"
   ]
  },
  {
   "cell_type": "code",
   "execution_count": 43,
   "id": "4a2cef4b",
   "metadata": {},
   "outputs": [],
   "source": [
    "cat = TDSCatalog(url_xml)"
   ]
  },
  {
   "cell_type": "code",
   "execution_count": 44,
   "id": "86daad03",
   "metadata": {},
   "outputs": [
    {
     "name": "stdout",
     "output_type": "stream",
     "text": [
      "['Level3_LTX_N0B_20220504_1715.nids', 'Level3_LTX_N0B_20220504_1711.nids', 'Level3_LTX_N0B_20220504_1706.nids', 'Level3_LTX_N0B_20220504_1702.nids', 'Level3_LTX_N0B_20220504_1657.nids', 'Level3_LTX_N0B_20220504_1653.nids', 'Level3_LTX_N0B_20220504_1649.nids', 'Level3_LTX_N0B_20220504_1644.nids', 'Level3_LTX_N0B_20220504_1639.nids', 'Level3_LTX_N0B_20220504_1635.nids', 'Level3_LTX_N0B_20220504_1630.nids', 'Level3_LTX_N0B_20220504_1625.nids', 'Level3_LTX_N0B_20220504_1621.nids', 'Level3_LTX_N0B_20220504_1616.nids', 'Level3_LTX_N0B_20220504_1612.nids', 'Level3_LTX_N0B_20220504_1607.nids', 'Level3_LTX_N0B_20220504_1602.nids', 'Level3_LTX_N0B_20220504_1558.nids', 'Level3_LTX_N0B_20220504_1553.nids', 'Level3_LTX_N0B_20220504_1548.nids', 'Level3_LTX_N0B_20220504_1544.nids', 'Level3_LTX_N0B_20220504_1539.nids', 'Level3_LTX_N0B_20220504_1535.nids', 'Level3_LTX_N0B_20220504_1530.nids', 'Level3_LTX_N0B_20220504_1525.nids', 'Level3_LTX_N0B_20220504_1521.nids', 'Level3_LTX_N0B_20220504_1516.nids', 'Level3_LTX_N0B_20220504_1512.nids', 'Level3_LTX_N0B_20220504_1507.nids', 'Level3_LTX_N0B_20220504_1503.nids', 'Level3_LTX_N0B_20220504_1458.nids', 'Level3_LTX_N0B_20220504_1454.nids', 'Level3_LTX_N0B_20220504_1449.nids', 'Level3_LTX_N0B_20220504_1443.nids', 'Level3_LTX_N0B_20220504_1436.nids', 'Level3_LTX_N0B_20220504_1429.nids', 'Level3_LTX_N0B_20220504_1422.nids', 'Level3_LTX_N0B_20220504_1415.nids', 'Level3_LTX_N0B_20220504_1408.nids', 'Level3_LTX_N0B_20220504_1401.nids', 'Level3_LTX_N0B_20220504_1354.nids', 'Level3_LTX_N0B_20220504_1347.nids', 'Level3_LTX_N0B_20220504_1340.nids', 'Level3_LTX_N0B_20220504_1333.nids', 'Level3_LTX_N0B_20220504_1326.nids', 'Level3_LTX_N0B_20220504_1319.nids', 'Level3_LTX_N0B_20220504_1313.nids', 'Level3_LTX_N0B_20220504_1306.nids', 'Level3_LTX_N0B_20220504_1301.nids', 'Level3_LTX_N0B_20220504_1256.nids', 'Level3_LTX_N0B_20220504_1252.nids', 'Level3_LTX_N0B_20220504_1247.nids', 'Level3_LTX_N0B_20220504_1243.nids', 'Level3_LTX_N0B_20220504_1239.nids', 'Level3_LTX_N0B_20220504_1234.nids', 'Level3_LTX_N0B_20220504_1230.nids', 'Level3_LTX_N0B_20220504_1226.nids', 'Level3_LTX_N0B_20220504_1221.nids', 'Level3_LTX_N0B_20220504_1217.nids', 'Level3_LTX_N0B_20220504_1213.nids', 'Level3_LTX_N0B_20220504_1209.nids', 'Level3_LTX_N0B_20220504_1204.nids', 'Level3_LTX_N0B_20220504_1200.nids', 'Level3_LTX_N0B_20220504_1156.nids', 'Level3_LTX_N0B_20220504_1151.nids', 'Level3_LTX_N0B_20220504_1147.nids', 'Level3_LTX_N0B_20220504_1143.nids', 'Level3_LTX_N0B_20220504_1138.nids', 'Level3_LTX_N0B_20220504_1134.nids', 'Level3_LTX_N0B_20220504_1130.nids', 'Level3_LTX_N0B_20220504_1125.nids', 'Level3_LTX_N0B_20220504_1118.nids', 'Level3_LTX_N0B_20220504_1117.nids', 'Level3_LTX_N0B_20220504_1113.nids', 'Level3_LTX_N0B_20220504_1108.nids', 'Level3_LTX_N0B_20220504_1105.nids', 'Level3_LTX_N0B_20220504_1100.nids', 'Level3_LTX_N0B_20220504_1056.nids', 'Level3_LTX_N0B_20220504_1052.nids', 'Level3_LTX_N0B_20220504_1048.nids', 'Level3_LTX_N0B_20220504_1044.nids', 'Level3_LTX_N0B_20220504_1039.nids', 'Level3_LTX_N0B_20220504_1034.nids', 'Level3_LTX_N0B_20220504_1030.nids', 'Level3_LTX_N0B_20220504_1026.nids', 'Level3_LTX_N0B_20220504_1022.nids', 'Level3_LTX_N0B_20220504_1017.nids', 'Level3_LTX_N0B_20220504_1014.nids', 'Level3_LTX_N0B_20220504_1009.nids', 'Level3_LTX_N0B_20220504_1005.nids', 'Level3_LTX_N0B_20220504_1000.nids', 'Level3_LTX_N0B_20220504_0956.nids', 'Level3_LTX_N0B_20220504_0952.nids', 'Level3_LTX_N0B_20220504_0948.nids', 'Level3_LTX_N0B_20220504_0943.nids', 'Level3_LTX_N0B_20220504_0939.nids', 'Level3_LTX_N0B_20220504_0935.nids', 'Level3_LTX_N0B_20220504_0931.nids', 'Level3_LTX_N0B_20220504_0926.nids', 'Level3_LTX_N0B_20220504_0922.nids', 'Level3_LTX_N0B_20220504_0917.nids', 'Level3_LTX_N0B_20220504_0914.nids', 'Level3_LTX_N0B_20220504_0909.nids', 'Level3_LTX_N0B_20220504_0905.nids', 'Level3_LTX_N0B_20220504_0900.nids', 'Level3_LTX_N0B_20220504_0856.nids', 'Level3_LTX_N0B_20220504_0851.nids', 'Level3_LTX_N0B_20220504_0848.nids', 'Level3_LTX_N0B_20220504_0843.nids', 'Level3_LTX_N0B_20220504_0839.nids', 'Level3_LTX_N0B_20220504_0834.nids', 'Level3_LTX_N0B_20220504_0831.nids', 'Level3_LTX_N0B_20220504_0826.nids', 'Level3_LTX_N0B_20220504_0822.nids', 'Level3_LTX_N0B_20220504_0817.nids', 'Level3_LTX_N0B_20220504_0814.nids', 'Level3_LTX_N0B_20220504_0809.nids', 'Level3_LTX_N0B_20220504_0805.nids', 'Level3_LTX_N0B_20220504_0801.nids', 'Level3_LTX_N0B_20220504_0757.nids', 'Level3_LTX_N0B_20220504_0752.nids', 'Level3_LTX_N0B_20220504_0748.nids', 'Level3_LTX_N0B_20220504_0743.nids', 'Level3_LTX_N0B_20220504_0740.nids', 'Level3_LTX_N0B_20220504_0735.nids', 'Level3_LTX_N0B_20220504_0731.nids', 'Level3_LTX_N0B_20220504_0727.nids', 'Level3_LTX_N0B_20220504_0723.nids', 'Level3_LTX_N0B_20220504_0718.nids', 'Level3_LTX_N0B_20220504_0714.nids', 'Level3_LTX_N0B_20220504_0709.nids', 'Level3_LTX_N0B_20220504_0705.nids', 'Level3_LTX_N0B_20220504_0701.nids', 'Level3_LTX_N0B_20220504_0657.nids', 'Level3_LTX_N0B_20220504_0652.nids', 'Level3_LTX_N0B_20220504_0648.nids', 'Level3_LTX_N0B_20220504_0643.nids', 'Level3_LTX_N0B_20220504_0639.nids', 'Level3_LTX_N0B_20220504_0635.nids', 'Level3_LTX_N0B_20220504_0631.nids', 'Level3_LTX_N0B_20220504_0626.nids', 'Level3_LTX_N0B_20220504_0622.nids', 'Level3_LTX_N0B_20220504_0617.nids', 'Level3_LTX_N0B_20220504_0613.nids', 'Level3_LTX_N0B_20220504_0609.nids', 'Level3_LTX_N0B_20220504_0606.nids', 'Level3_LTX_N0B_20220504_0603.nids', 'Level3_LTX_N0B_20220504_0600.nids', 'Level3_LTX_N0B_20220504_0558.nids', 'Level3_LTX_N0B_20220504_0555.nids', 'Level3_LTX_N0B_20220504_0552.nids', 'Level3_LTX_N0B_20220504_0549.nids', 'Level3_LTX_N0B_20220504_0546.nids', 'Level3_LTX_N0B_20220504_0543.nids', 'Level3_LTX_N0B_20220504_0541.nids', 'Level3_LTX_N0B_20220504_0538.nids', 'Level3_LTX_N0B_20220504_0535.nids', 'Level3_LTX_N0B_20220504_0532.nids', 'Level3_LTX_N0B_20220504_0530.nids', 'Level3_LTX_N0B_20220504_0527.nids', 'Level3_LTX_N0B_20220504_0524.nids', 'Level3_LTX_N0B_20220504_0521.nids', 'Level3_LTX_N0B_20220504_0519.nids', 'Level3_LTX_N0B_20220504_0516.nids', 'Level3_LTX_N0B_20220504_0513.nids', 'Level3_LTX_N0B_20220504_0510.nids', 'Level3_LTX_N0B_20220504_0507.nids', 'Level3_LTX_N0B_20220504_0505.nids', 'Level3_LTX_N0B_20220504_0502.nids', 'Level3_LTX_N0B_20220504_0459.nids', 'Level3_LTX_N0B_20220504_0456.nids', 'Level3_LTX_N0B_20220504_0453.nids', 'Level3_LTX_N0B_20220504_0451.nids', 'Level3_LTX_N0B_20220504_0448.nids', 'Level3_LTX_N0B_20220504_0445.nids', 'Level3_LTX_N0B_20220504_0442.nids', 'Level3_LTX_N0B_20220504_0440.nids', 'Level3_LTX_N0B_20220504_0437.nids', 'Level3_LTX_N0B_20220504_0434.nids', 'Level3_LTX_N0B_20220504_0431.nids', 'Level3_LTX_N0B_20220504_0428.nids', 'Level3_LTX_N0B_20220504_0427.nids', 'Level3_LTX_N0B_20220504_0423.nids', 'Level3_LTX_N0B_20220504_0419.nids', 'Level3_LTX_N0B_20220504_0414.nids', 'Level3_LTX_N0B_20220504_0411.nids', 'Level3_LTX_N0B_20220504_0406.nids', 'Level3_LTX_N0B_20220504_0404.nids', 'Level3_LTX_N0B_20220504_0402.nids', 'Level3_LTX_N0B_20220504_0359.nids', 'Level3_LTX_N0B_20220504_0357.nids', 'Level3_LTX_N0B_20220504_0355.nids', 'Level3_LTX_N0B_20220504_0353.nids', 'Level3_LTX_N0B_20220504_0351.nids', 'Level3_LTX_N0B_20220504_0349.nids', 'Level3_LTX_N0B_20220504_0346.nids', 'Level3_LTX_N0B_20220504_0344.nids', 'Level3_LTX_N0B_20220504_0342.nids', 'Level3_LTX_N0B_20220504_0340.nids', 'Level3_LTX_N0B_20220504_0338.nids', 'Level3_LTX_N0B_20220504_0336.nids', 'Level3_LTX_N0B_20220504_0333.nids', 'Level3_LTX_N0B_20220504_0331.nids', 'Level3_LTX_N0B_20220504_0329.nids', 'Level3_LTX_N0B_20220504_0327.nids', 'Level3_LTX_N0B_20220504_0325.nids', 'Level3_LTX_N0B_20220504_0323.nids', 'Level3_LTX_N0B_20220504_0321.nids', 'Level3_LTX_N0B_20220504_0318.nids', 'Level3_LTX_N0B_20220504_0316.nids', 'Level3_LTX_N0B_20220504_0314.nids', 'Level3_LTX_N0B_20220504_0312.nids', 'Level3_LTX_N0B_20220504_0310.nids', 'Level3_LTX_N0B_20220504_0308.nids', 'Level3_LTX_N0B_20220504_0305.nids', 'Level3_LTX_N0B_20220504_0303.nids', 'Level3_LTX_N0B_20220504_0301.nids', 'Level3_LTX_N0B_20220504_0259.nids', 'Level3_LTX_N0B_20220504_0257.nids', 'Level3_LTX_N0B_20220504_0255.nids', 'Level3_LTX_N0B_20220504_0253.nids', 'Level3_LTX_N0B_20220504_0250.nids', 'Level3_LTX_N0B_20220504_0248.nids', 'Level3_LTX_N0B_20220504_0246.nids', 'Level3_LTX_N0B_20220504_0244.nids', 'Level3_LTX_N0B_20220504_0242.nids', 'Level3_LTX_N0B_20220504_0240.nids', 'Level3_LTX_N0B_20220504_0237.nids', 'Level3_LTX_N0B_20220504_0235.nids', 'Level3_LTX_N0B_20220504_0232.nids', 'Level3_LTX_N0B_20220504_0230.nids', 'Level3_LTX_N0B_20220504_0227.nids', 'Level3_LTX_N0B_20220504_0225.nids', 'Level3_LTX_N0B_20220504_0223.nids', 'Level3_LTX_N0B_20220504_0221.nids', 'Level3_LTX_N0B_20220504_0218.nids', 'Level3_LTX_N0B_20220504_0216.nids', 'Level3_LTX_N0B_20220504_0214.nids', 'Level3_LTX_N0B_20220504_0211.nids', 'Level3_LTX_N0B_20220504_0209.nids', 'Level3_LTX_N0B_20220504_0206.nids', 'Level3_LTX_N0B_20220504_0204.nids', 'Level3_LTX_N0B_20220504_0202.nids', 'Level3_LTX_N0B_20220504_0159.nids', 'Level3_LTX_N0B_20220504_0157.nids', 'Level3_LTX_N0B_20220504_0154.nids', 'Level3_LTX_N0B_20220504_0152.nids', 'Level3_LTX_N0B_20220504_0149.nids', 'Level3_LTX_N0B_20220504_0147.nids', 'Level3_LTX_N0B_20220504_0144.nids', 'Level3_LTX_N0B_20220504_0142.nids', 'Level3_LTX_N0B_20220504_0139.nids', 'Level3_LTX_N0B_20220504_0137.nids', 'Level3_LTX_N0B_20220504_0134.nids', 'Level3_LTX_N0B_20220504_0132.nids', 'Level3_LTX_N0B_20220504_0129.nids', 'Level3_LTX_N0B_20220504_0127.nids', 'Level3_LTX_N0B_20220504_0125.nids', 'Level3_LTX_N0B_20220504_0123.nids', 'Level3_LTX_N0B_20220504_0120.nids', 'Level3_LTX_N0B_20220504_0118.nids', 'Level3_LTX_N0B_20220504_0115.nids', 'Level3_LTX_N0B_20220504_0113.nids', 'Level3_LTX_N0B_20220504_0111.nids', 'Level3_LTX_N0B_20220504_0109.nids', 'Level3_LTX_N0B_20220504_0106.nids', 'Level3_LTX_N0B_20220504_0104.nids', 'Level3_LTX_N0B_20220504_0102.nids', 'Level3_LTX_N0B_20220504_0100.nids', 'Level3_LTX_N0B_20220504_0057.nids', 'Level3_LTX_N0B_20220504_0055.nids', 'Level3_LTX_N0B_20220504_0053.nids', 'Level3_LTX_N0B_20220504_0050.nids', 'Level3_LTX_N0B_20220504_0048.nids', 'Level3_LTX_N0B_20220504_0046.nids', 'Level3_LTX_N0B_20220504_0043.nids', 'Level3_LTX_N0B_20220504_0041.nids', 'Level3_LTX_N0B_20220504_0038.nids', 'Level3_LTX_N0B_20220504_0036.nids', 'Level3_LTX_N0B_20220504_0034.nids', 'Level3_LTX_N0B_20220504_0031.nids', 'Level3_LTX_N0B_20220504_0029.nids', 'Level3_LTX_N0B_20220504_0027.nids', 'Level3_LTX_N0B_20220504_0024.nids', 'Level3_LTX_N0B_20220504_0022.nids', 'Level3_LTX_N0B_20220504_0020.nids', 'Level3_LTX_N0B_20220504_0018.nids', 'Level3_LTX_N0B_20220504_0016.nids', 'Level3_LTX_N0B_20220504_0014.nids', 'Level3_LTX_N0B_20220504_0012.nids', 'Level3_LTX_N0B_20220504_0009.nids', 'Level3_LTX_N0B_20220504_0007.nids', 'Level3_LTX_N0B_20220504_0005.nids', 'Level3_LTX_N0B_20220504_0002.nids', 'Level3_LTX_N0B_20220504_0000.nids']\n"
     ]
    }
   ],
   "source": [
    "print(cat.datasets)"
   ]
  },
  {
   "cell_type": "code",
   "execution_count": 45,
   "id": "46507098",
   "metadata": {},
   "outputs": [
    {
     "name": "stdout",
     "output_type": "stream",
     "text": [
      "Total files: 295\n"
     ]
    }
   ],
   "source": [
    "print('Total files: ' + str(len(cat.datasets)))"
   ]
  },
  {
   "cell_type": "code",
   "execution_count": 46,
   "id": "8ccfdc1f",
   "metadata": {},
   "outputs": [
    {
     "data": {
      "text/plain": [
       "{'OPENDAP': 'https://thredds.ucar.edu/thredds/dodsC/nexrad/level3/N0B/LTX/20220504/Level3_LTX_N0B_20220504_1715.nids',\n",
       " 'HTTPServer': 'https://thredds.ucar.edu/thredds/fileServer/nexrad/level3/N0B/LTX/20220504/Level3_LTX_N0B_20220504_1715.nids',\n",
       " 'CdmRemote': 'https://thredds.ucar.edu/thredds/cdmremote/nexrad/level3/N0B/LTX/20220504/Level3_LTX_N0B_20220504_1715.nids',\n",
       " 'NCML': 'https://thredds.ucar.edu/thredds/ncml/nexrad/level3/N0B/LTX/20220504/Level3_LTX_N0B_20220504_1715.nids',\n",
       " 'UDDC': 'https://thredds.ucar.edu/thredds/uddc/nexrad/level3/N0B/LTX/20220504/Level3_LTX_N0B_20220504_1715.nids',\n",
       " 'ISO': 'https://thredds.ucar.edu/thredds/iso/nexrad/level3/N0B/LTX/20220504/Level3_LTX_N0B_20220504_1715.nids'}"
      ]
     },
     "execution_count": 46,
     "metadata": {},
     "output_type": "execute_result"
    }
   ],
   "source": [
    "ds = cat.datasets[0]\n",
    "ds.access_urls"
   ]
  },
  {
   "cell_type": "code",
   "execution_count": 47,
   "id": "06265851",
   "metadata": {},
   "outputs": [],
   "source": [
    "from datetime import datetime\n"
   ]
  },
  {
   "cell_type": "code",
   "execution_count": 48,
   "id": "91b30b77",
   "metadata": {},
   "outputs": [],
   "source": [
    "import xarray as xr"
   ]
  },
  {
   "cell_type": "code",
   "execution_count": 49,
   "id": "1a498acc",
   "metadata": {},
   "outputs": [],
   "source": [
    "from metpy.units import units"
   ]
  },
  {
   "cell_type": "code",
   "execution_count": 50,
   "id": "67d453cb",
   "metadata": {},
   "outputs": [],
   "source": [
    " \n",
    "from siphon.radarserver import RadarServer"
   ]
  },
  {
   "cell_type": "code",
   "execution_count": 51,
   "id": "e8472fe0",
   "metadata": {},
   "outputs": [],
   "source": [
    "cat = TDSCatalog('https://thredds.ucar.edu/thredds/radarServer/catalog.xml')"
   ]
  },
  {
   "cell_type": "code",
   "execution_count": 52,
   "id": "ca30235e",
   "metadata": {},
   "outputs": [
    {
     "data": {
      "text/plain": [
       "['NEXRAD Level II Radar for Case Study CCS039',\n",
       " 'NEXRAD Level II Radar from IDD',\n",
       " 'NEXRAD Level III Radar for Case Study CCS039',\n",
       " 'NEXRAD Level III Radar from IDD',\n",
       " 'TDWR Level III Radar from IDD']"
      ]
     },
     "execution_count": 52,
     "metadata": {},
     "output_type": "execute_result"
    }
   ],
   "source": [
    "list(cat.catalog_refs)"
   ]
  },
  {
   "cell_type": "code",
   "execution_count": 53,
   "id": "a653435b",
   "metadata": {},
   "outputs": [
    {
     "data": {
      "text/plain": [
       "'https://thredds.ucar.edu/thredds/radarServer/nexrad/level3/IDD/dataset.xml'"
      ]
     },
     "execution_count": 53,
     "metadata": {},
     "output_type": "execute_result"
    }
   ],
   "source": [
    "cat.catalog_refs['NEXRAD Level III Radar from IDD'].href"
   ]
  },
  {
   "cell_type": "code",
   "execution_count": 54,
   "id": "0b5e50d4",
   "metadata": {},
   "outputs": [],
   "source": [
    "rs= RadarServer(cat.catalog_refs['NEXRAD Level III Radar from IDD'].href)"
   ]
  },
  {
   "cell_type": "code",
   "execution_count": 55,
   "id": "39bbc356",
   "metadata": {},
   "outputs": [],
   "source": [
    "from datetime import datetime,timedelta"
   ]
  },
  {
   "cell_type": "code",
   "execution_count": 56,
   "id": "d46c078a",
   "metadata": {},
   "outputs": [
    {
     "data": {
      "text/plain": [
       "var=N0B&time_start=2022-05-04T16%3A18%3A58.510045&time_end=2022-05-04T17%3A18%3A58.510045&stn=LTX"
      ]
     },
     "execution_count": 56,
     "metadata": {},
     "output_type": "execute_result"
    }
   ],
   "source": [
    "query = rs.query()\n",
    "now=datetime.utcnow()\n",
    "query.stations('LTX').time_range(now - timedelta(hours=1), now).variables('N0B')"
   ]
  },
  {
   "cell_type": "code",
   "execution_count": 57,
   "id": "307890ef",
   "metadata": {},
   "outputs": [],
   "source": [
    "query_cat = rs.get_catalog(query)"
   ]
  },
  {
   "cell_type": "code",
   "execution_count": 58,
   "id": "019c78ce",
   "metadata": {},
   "outputs": [
    {
     "data": {
      "text/plain": [
       "['Level3_LTX_N0B_20220504_1621.nids',\n",
       " 'Level3_LTX_N0B_20220504_1625.nids',\n",
       " 'Level3_LTX_N0B_20220504_1630.nids',\n",
       " 'Level3_LTX_N0B_20220504_1635.nids',\n",
       " 'Level3_LTX_N0B_20220504_1639.nids',\n",
       " 'Level3_LTX_N0B_20220504_1644.nids',\n",
       " 'Level3_LTX_N0B_20220504_1649.nids',\n",
       " 'Level3_LTX_N0B_20220504_1653.nids',\n",
       " 'Level3_LTX_N0B_20220504_1657.nids',\n",
       " 'Level3_LTX_N0B_20220504_1702.nids',\n",
       " 'Level3_LTX_N0B_20220504_1706.nids',\n",
       " 'Level3_LTX_N0B_20220504_1711.nids',\n",
       " 'Level3_LTX_N0B_20220504_1715.nids']"
      ]
     },
     "execution_count": 58,
     "metadata": {},
     "output_type": "execute_result"
    }
   ],
   "source": [
    "sorted(query_cat.datasets)"
   ]
  },
  {
   "cell_type": "code",
   "execution_count": 59,
   "id": "affb7778",
   "metadata": {},
   "outputs": [
    {
     "data": {
      "text/plain": [
       "var=N0B&time_start=2022-05-04T16%3A18%3A58.510045&time_end=2022-05-04T17%3A18%3A58.510045&stn=LTX"
      ]
     },
     "execution_count": 59,
     "metadata": {},
     "output_type": "execute_result"
    }
   ],
   "source": [
    "#query.stations('TLX','LTX').time_range(now - timedelta(hours=1), now).variables('N0B', 'N0C')\n",
    "query.stations('LTX').time_range(now - timedelta(hours=1), now).variables('N0B')"
   ]
  },
  {
   "cell_type": "code",
   "execution_count": 60,
   "id": "965b2c01",
   "metadata": {},
   "outputs": [
    {
     "data": {
      "text/plain": [
       "['Level3_LTX_N0B_20220504_1621.nids',\n",
       " 'Level3_LTX_N0B_20220504_1625.nids',\n",
       " 'Level3_LTX_N0B_20220504_1630.nids',\n",
       " 'Level3_LTX_N0B_20220504_1635.nids',\n",
       " 'Level3_LTX_N0B_20220504_1639.nids',\n",
       " 'Level3_LTX_N0B_20220504_1644.nids',\n",
       " 'Level3_LTX_N0B_20220504_1649.nids',\n",
       " 'Level3_LTX_N0B_20220504_1653.nids',\n",
       " 'Level3_LTX_N0B_20220504_1657.nids',\n",
       " 'Level3_LTX_N0B_20220504_1702.nids',\n",
       " 'Level3_LTX_N0B_20220504_1706.nids',\n",
       " 'Level3_LTX_N0B_20220504_1711.nids',\n",
       " 'Level3_LTX_N0B_20220504_1715.nids']"
      ]
     },
     "execution_count": 60,
     "metadata": {},
     "output_type": "execute_result"
    }
   ],
   "source": [
    "query_cat = rs.get_catalog(query)\n",
    "\n",
    "sorted(query_cat.datasets)"
   ]
  },
  {
   "cell_type": "code",
   "execution_count": 26,
   "id": "9d294a74",
   "metadata": {},
   "outputs": [],
   "source": [
    "#product_codes = ['NCR', 'N0B','N0C']\n",
    "product_codes = ['N0B']\n",
    "query_catalogs=dict()\n",
    "for product_code in product_codes:\n",
    "    query.stations('LTX').time_range(now - timedelta(hours=1), now).variables(product_code)\n",
    "    query_cat = rs.get_catalog(query)\n",
    "    query_catalogs[product_code]=query_cat\n",
    "    \n"
   ]
  },
  {
   "cell_type": "code",
   "execution_count": 27,
   "id": "fe2f2765",
   "metadata": {},
   "outputs": [
    {
     "data": {
      "text/plain": [
       "{'NCR': Radar NEXRAD Level III Radar from IDD datasets in near real time,\n",
       " 'N0B': Radar NEXRAD Level III Radar from IDD datasets in near real time,\n",
       " 'N0C': Radar NEXRAD Level III Radar from IDD datasets in near real time}"
      ]
     },
     "execution_count": 27,
     "metadata": {},
     "output_type": "execute_result"
    }
   ],
   "source": [
    "query_catalogs"
   ]
  },
  {
   "cell_type": "code",
   "execution_count": 28,
   "id": "ee975890",
   "metadata": {},
   "outputs": [
    {
     "data": {
      "text/plain": [
       "['Level3_LTX_N0B_20220504_1553.nids',\n",
       " 'Level3_LTX_N0B_20220504_1558.nids',\n",
       " 'Level3_LTX_N0B_20220504_1602.nids',\n",
       " 'Level3_LTX_N0B_20220504_1607.nids',\n",
       " 'Level3_LTX_N0B_20220504_1612.nids',\n",
       " 'Level3_LTX_N0B_20220504_1616.nids',\n",
       " 'Level3_LTX_N0B_20220504_1621.nids',\n",
       " 'Level3_LTX_N0B_20220504_1625.nids',\n",
       " 'Level3_LTX_N0B_20220504_1630.nids',\n",
       " 'Level3_LTX_N0B_20220504_1635.nids',\n",
       " 'Level3_LTX_N0B_20220504_1639.nids',\n",
       " 'Level3_LTX_N0B_20220504_1644.nids',\n",
       " 'Level3_LTX_N0B_20220504_1649.nids',\n",
       " 'Level3_LTX_N0C_20220504_1553.nids',\n",
       " 'Level3_LTX_N0C_20220504_1558.nids',\n",
       " 'Level3_LTX_N0C_20220504_1602.nids',\n",
       " 'Level3_LTX_N0C_20220504_1607.nids',\n",
       " 'Level3_LTX_N0C_20220504_1612.nids',\n",
       " 'Level3_LTX_N0C_20220504_1616.nids',\n",
       " 'Level3_LTX_N0C_20220504_1621.nids',\n",
       " 'Level3_LTX_N0C_20220504_1625.nids',\n",
       " 'Level3_LTX_N0C_20220504_1630.nids',\n",
       " 'Level3_LTX_N0C_20220504_1635.nids',\n",
       " 'Level3_LTX_N0C_20220504_1639.nids',\n",
       " 'Level3_LTX_N0C_20220504_1644.nids',\n",
       " 'Level3_LTX_N0C_20220504_1649.nids',\n",
       " 'Level3_LTX_NCR_20220504_1553.nids',\n",
       " 'Level3_LTX_NCR_20220504_1558.nids',\n",
       " 'Level3_LTX_NCR_20220504_1602.nids',\n",
       " 'Level3_LTX_NCR_20220504_1607.nids',\n",
       " 'Level3_LTX_NCR_20220504_1612.nids',\n",
       " 'Level3_LTX_NCR_20220504_1616.nids',\n",
       " 'Level3_LTX_NCR_20220504_1621.nids',\n",
       " 'Level3_LTX_NCR_20220504_1625.nids',\n",
       " 'Level3_LTX_NCR_20220504_1630.nids',\n",
       " 'Level3_LTX_NCR_20220504_1635.nids',\n",
       " 'Level3_LTX_NCR_20220504_1639.nids',\n",
       " 'Level3_LTX_NCR_20220504_1644.nids',\n",
       " 'Level3_TLX_N0B_20220504_1552.nids',\n",
       " 'Level3_TLX_N0B_20220504_1553.nids',\n",
       " 'Level3_TLX_N0B_20220504_1554.nids',\n",
       " 'Level3_TLX_N0B_20220504_1556.nids',\n",
       " 'Level3_TLX_N0B_20220504_1557.nids',\n",
       " 'Level3_TLX_N0B_20220504_1559.nids',\n",
       " 'Level3_TLX_N0B_20220504_1600.nids',\n",
       " 'Level3_TLX_N0B_20220504_1602.nids',\n",
       " 'Level3_TLX_N0B_20220504_1603.nids',\n",
       " 'Level3_TLX_N0B_20220504_1605.nids',\n",
       " 'Level3_TLX_N0B_20220504_1606.nids',\n",
       " 'Level3_TLX_N0B_20220504_1608.nids',\n",
       " 'Level3_TLX_N0B_20220504_1610.nids',\n",
       " 'Level3_TLX_N0B_20220504_1611.nids',\n",
       " 'Level3_TLX_N0B_20220504_1613.nids',\n",
       " 'Level3_TLX_N0B_20220504_1614.nids',\n",
       " 'Level3_TLX_N0B_20220504_1616.nids',\n",
       " 'Level3_TLX_N0B_20220504_1617.nids',\n",
       " 'Level3_TLX_N0B_20220504_1619.nids',\n",
       " 'Level3_TLX_N0B_20220504_1620.nids',\n",
       " 'Level3_TLX_N0B_20220504_1622.nids',\n",
       " 'Level3_TLX_N0B_20220504_1624.nids',\n",
       " 'Level3_TLX_N0B_20220504_1625.nids',\n",
       " 'Level3_TLX_N0B_20220504_1626.nids',\n",
       " 'Level3_TLX_N0B_20220504_1628.nids',\n",
       " 'Level3_TLX_N0B_20220504_1629.nids',\n",
       " 'Level3_TLX_N0B_20220504_1631.nids',\n",
       " 'Level3_TLX_N0B_20220504_1633.nids',\n",
       " 'Level3_TLX_N0B_20220504_1634.nids',\n",
       " 'Level3_TLX_N0B_20220504_1636.nids',\n",
       " 'Level3_TLX_N0B_20220504_1638.nids',\n",
       " 'Level3_TLX_N0B_20220504_1639.nids',\n",
       " 'Level3_TLX_N0B_20220504_1641.nids',\n",
       " 'Level3_TLX_N0B_20220504_1643.nids',\n",
       " 'Level3_TLX_N0B_20220504_1644.nids',\n",
       " 'Level3_TLX_N0B_20220504_1646.nids',\n",
       " 'Level3_TLX_N0B_20220504_1648.nids',\n",
       " 'Level3_TLX_N0B_20220504_1649.nids',\n",
       " 'Level3_TLX_N0B_20220504_1651.nids',\n",
       " 'Level3_TLX_N0C_20220504_1552.nids',\n",
       " 'Level3_TLX_N0C_20220504_1553.nids',\n",
       " 'Level3_TLX_N0C_20220504_1554.nids',\n",
       " 'Level3_TLX_N0C_20220504_1556.nids',\n",
       " 'Level3_TLX_N0C_20220504_1557.nids',\n",
       " 'Level3_TLX_N0C_20220504_1559.nids',\n",
       " 'Level3_TLX_N0C_20220504_1600.nids',\n",
       " 'Level3_TLX_N0C_20220504_1602.nids',\n",
       " 'Level3_TLX_N0C_20220504_1603.nids',\n",
       " 'Level3_TLX_N0C_20220504_1605.nids',\n",
       " 'Level3_TLX_N0C_20220504_1606.nids',\n",
       " 'Level3_TLX_N0C_20220504_1608.nids',\n",
       " 'Level3_TLX_N0C_20220504_1610.nids',\n",
       " 'Level3_TLX_N0C_20220504_1611.nids',\n",
       " 'Level3_TLX_N0C_20220504_1613.nids',\n",
       " 'Level3_TLX_N0C_20220504_1614.nids',\n",
       " 'Level3_TLX_N0C_20220504_1616.nids',\n",
       " 'Level3_TLX_N0C_20220504_1617.nids',\n",
       " 'Level3_TLX_N0C_20220504_1619.nids',\n",
       " 'Level3_TLX_N0C_20220504_1620.nids',\n",
       " 'Level3_TLX_N0C_20220504_1622.nids',\n",
       " 'Level3_TLX_N0C_20220504_1624.nids',\n",
       " 'Level3_TLX_N0C_20220504_1625.nids',\n",
       " 'Level3_TLX_N0C_20220504_1626.nids',\n",
       " 'Level3_TLX_N0C_20220504_1628.nids',\n",
       " 'Level3_TLX_N0C_20220504_1629.nids',\n",
       " 'Level3_TLX_N0C_20220504_1631.nids',\n",
       " 'Level3_TLX_N0C_20220504_1633.nids',\n",
       " 'Level3_TLX_N0C_20220504_1634.nids',\n",
       " 'Level3_TLX_N0C_20220504_1636.nids',\n",
       " 'Level3_TLX_N0C_20220504_1638.nids',\n",
       " 'Level3_TLX_N0C_20220504_1639.nids',\n",
       " 'Level3_TLX_N0C_20220504_1641.nids',\n",
       " 'Level3_TLX_N0C_20220504_1643.nids',\n",
       " 'Level3_TLX_N0C_20220504_1644.nids',\n",
       " 'Level3_TLX_N0C_20220504_1646.nids',\n",
       " 'Level3_TLX_N0C_20220504_1648.nids',\n",
       " 'Level3_TLX_N0C_20220504_1649.nids',\n",
       " 'Level3_TLX_N0C_20220504_1651.nids',\n",
       " 'Level3_TLX_NCR_20220504_1552.nids',\n",
       " 'Level3_TLX_NCR_20220504_1556.nids',\n",
       " 'Level3_TLX_NCR_20220504_1600.nids',\n",
       " 'Level3_TLX_NCR_20220504_1605.nids',\n",
       " 'Level3_TLX_NCR_20220504_1610.nids',\n",
       " 'Level3_TLX_NCR_20220504_1614.nids',\n",
       " 'Level3_TLX_NCR_20220504_1619.nids',\n",
       " 'Level3_TLX_NCR_20220504_1624.nids',\n",
       " 'Level3_TLX_NCR_20220504_1628.nids',\n",
       " 'Level3_TLX_NCR_20220504_1633.nids',\n",
       " 'Level3_TLX_NCR_20220504_1638.nids',\n",
       " 'Level3_TLX_NCR_20220504_1643.nids']"
      ]
     },
     "execution_count": 28,
     "metadata": {},
     "output_type": "execute_result"
    }
   ],
   "source": [
    "sorted(query_catalogs['NCR'].datasets)"
   ]
  },
  {
   "cell_type": "code",
   "execution_count": 30,
   "id": "08b14e8b",
   "metadata": {},
   "outputs": [],
   "source": [
    "import cartopy\n",
    "import matplotlib.pyplot as plt\n",
    "import numpy as np\n",
    "from siphon.cdmr import Dataset\n",
    "\n",
    "%matplotlib inline\n",
    "#"
   ]
  },
  {
   "cell_type": "code",
   "execution_count": 31,
   "id": "0cb9b722",
   "metadata": {},
   "outputs": [
    {
     "name": "stdout",
     "output_type": "stream",
     "text": [
      "['elevation', 'azimuth', 'gate', 'latitude', 'longitude', 'altitude', 'rays_time', 'CorrelationCoefficient_RAW', 'CorrelationCoefficient']\n"
     ]
    }
   ],
   "source": [
    "data = query_cat.datasets[0].remote_access()\n",
    "print(list(data.variables))"
   ]
  },
  {
   "cell_type": "code",
   "execution_count": 34,
   "id": "9d9f5abe",
   "metadata": {},
   "outputs": [],
   "source": [
    "field_name = 'BaseReflectivityDR'\n",
    "field_name = 'CorrelationCoefficient'\n",
    "\n",
    "range_data = data.variables['gate'][:]\n",
    "azimuth_data = data.variables['azimuth'][:]\n",
    "radar_data = data.variables[field_name][:]\n"
   ]
  },
  {
   "cell_type": "code",
   "execution_count": 35,
   "id": "b6c3f46b",
   "metadata": {},
   "outputs": [],
   "source": [
    "x = range_data * np.sin(np.deg2rad(azimuth_data))[:,None]\n",
    "\n",
    "y = range_data * np.cos(np.deg2rad(azimuth_data))[:,None]"
   ]
  },
  {
   "cell_type": "code",
   "execution_count": 36,
   "id": "43366915",
   "metadata": {},
   "outputs": [],
   "source": [
    "radar_data = np.ma.array(radar_data, mask = np.isnan(radar_data))"
   ]
  },
  {
   "cell_type": "code",
   "execution_count": 37,
   "id": "89bdf97f",
   "metadata": {},
   "outputs": [],
   "source": [
    "proj = cartopy.crs.LambertConformal(central_longitude=data.RadarLongitude,\n",
    "                                  central_latitude=data.RadarLatitude)"
   ]
  },
  {
   "cell_type": "code",
   "execution_count": 38,
   "id": "d10b564e",
   "metadata": {},
   "outputs": [
    {
     "name": "stdout",
     "output_type": "stream",
     "text": [
      "2022-05-04T16:30:34Z\n",
      "2022-05-04 16:30:34\n"
     ]
    }
   ],
   "source": [
    "print(data.time_coverage_start)\n",
    "data_time = datetime.strptime(data.time_coverage_start, '%Y-%m-%dT%H:%M:%SZ')\n",
    "print(data_time)"
   ]
  },
  {
   "cell_type": "code",
   "execution_count": 39,
   "id": "a8715c9f",
   "metadata": {},
   "outputs": [
    {
     "name": "stderr",
     "output_type": "stream",
     "text": [
      "/home/pmccrone/anaconda3/lib/python3.8/site-packages/cartopy/mpl/geoaxes.py:1597: UserWarning: The input coordinates to pcolormesh are interpreted as cell centers, but are not monotonically increasing or decreasing. This may lead to incorrectly calculated cell edges, in which case, please supply explicit cell edges to pcolormesh.\n",
      "  X, Y, C, shading = self._pcolorargs('pcolormesh', *args,\n"
     ]
    },
    {
     "data": {
      "image/png": "[encoded data removed]",
      "text/plain": [
       "<Figure size 720x720 with 1 Axes>"
      ]
     },
     "metadata": {
      "needs_background": "light"
     },
     "output_type": "display_data"
    }
   ],
   "source": [
    "from metpy.plots import ctables, add_timestamp, add_metpy_logo\n",
    "\n",
    "state_borders = cartopy.feature.NaturalEarthFeature( category='cultural', \n",
    "                                                    name='admin_1_states_provinces_lakes',\n",
    "                                                   scale='50m', facecolor='none')\n",
    "\n",
    "fig = plt.figure(figsize=(10,10))\n",
    "ax = plt.subplot(1, 1, 1, projection=proj)\n",
    "\n",
    "norm, cmap = ctables.registry.get_with_steps('NWSReflectivity', 16, 16)\n",
    "mesh = ax.pcolormesh(x, y, radar_data, norm=norm, cmap=cmap, zorder=0)\n",
    "add_timestamp(ax, time=data_time)\n",
    "add_metpy_logo(fig, y=30)\n",
    "ax.add_feature(state_borders, edgecolor='black', linewidth=2, zorder=2)\n",
    "\n",
    "distance_in_degrees = 2.7\n",
    "ax.set_extent([data.RadarLongitude - distance_in_degrees,\n",
    "              data.RadarLongitude + distance_in_degrees,\n",
    "              data.RadarLatitude - distance_in_degrees,\n",
    "              data.RadarLatitude + distance_in_degrees ])"
   ]
  },
  {
   "cell_type": "code",
   "execution_count": null,
   "id": "55390f04",
   "metadata": {},
   "outputs": [],
   "source": []
  }
 ],
 "metadata": {
  "kernelspec": {
   "display_name": "Python 3",
   "language": "python",
   "name": "python3"
  },
  "language_info": {
   "codemirror_mode": {
    "name": "ipython",
    "version": 3
   },
   "file_extension": ".py",
   "mimetype": "text/x-python",
   "name": "python",
   "nbconvert_exporter": "python",
   "pygments_lexer": "ipython3",
   "version": "3.8.8"
  }
 },
 "nbformat": 4,
 "nbformat_minor": 5
}
