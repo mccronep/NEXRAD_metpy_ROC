{
 "cells": [
  {
   "cell_type": "code",
   "execution_count": 108,
   "id": "4df4bd6e",
   "metadata": {},
   "outputs": [],
   "source": [
    "import metpy.calc as mpcalc"
   ]
  },
  {
   "cell_type": "code",
   "execution_count": 109,
   "id": "2ebd62c5",
   "metadata": {},
   "outputs": [],
   "source": [
    "import metpy.constants as mpconst"
   ]
  },
  {
   "cell_type": "code",
   "execution_count": 110,
   "id": "5a7a1e70",
   "metadata": {},
   "outputs": [],
   "source": [
    "from siphon.catalog import TDSCatalog"
   ]
  },
  {
   "cell_type": "code",
   "execution_count": 111,
   "id": "5a44ccd1",
   "metadata": {},
   "outputs": [],
   "source": [
    "url='https://thredds.ucar.edu/thredds/catalog/nexrad/level3/N0B/TLX/20220504/catalog.html'"
   ]
  },
  {
   "cell_type": "code",
   "execution_count": 112,
   "id": "686b96a2",
   "metadata": {},
   "outputs": [
    {
     "name": "stdout",
     "output_type": "stream",
     "text": [
      "https://thredds.ucar.edu/thredds/catalog/nexrad/level3/N0B/TLX/20220504/catalog.html\n"
     ]
    }
   ],
   "source": [
    "print(url)"
   ]
  },
  {
   "cell_type": "code",
   "execution_count": 113,
   "id": "13cbd6cd",
   "metadata": {},
   "outputs": [],
   "source": [
    "url_xml = url.replace(\".html\", \".xml\")"
   ]
  },
  {
   "cell_type": "code",
   "execution_count": 114,
   "id": "4a2cef4b",
   "metadata": {},
   "outputs": [],
   "source": [
    "cat = TDSCatalog(url_xml)"
   ]
  },
  {
   "cell_type": "code",
   "execution_count": 115,
   "id": "86daad03",
   "metadata": {},
   "outputs": [
    {
     "name": "stdout",
     "output_type": "stream",
     "text": [
      "['Level3_TLX_N0B_20220504_1728.nids', 'Level3_TLX_N0B_20220504_1726.nids', 'Level3_TLX_N0B_20220504_1725.nids', 'Level3_TLX_N0B_20220504_1723.nids', 'Level3_TLX_N0B_20220504_1722.nids', 'Level3_TLX_N0B_20220504_1720.nids', 'Level3_TLX_N0B_20220504_1718.nids', 'Level3_TLX_N0B_20220504_1717.nids', 'Level3_TLX_N0B_20220504_1715.nids', 'Level3_TLX_N0B_20220504_1713.nids', 'Level3_TLX_N0B_20220504_1712.nids', 'Level3_TLX_N0B_20220504_1711.nids', 'Level3_TLX_N0B_20220504_1709.nids', 'Level3_TLX_N0B_20220504_1707.nids', 'Level3_TLX_N0B_20220504_1705.nids', 'Level3_TLX_N0B_20220504_1704.nids', 'Level3_TLX_N0B_20220504_1702.nids', 'Level3_TLX_N0B_20220504_1701.nids', 'Level3_TLX_N0B_20220504_1659.nids', 'Level3_TLX_N0B_20220504_1658.nids', 'Level3_TLX_N0B_20220504_1656.nids', 'Level3_TLX_N0B_20220504_1654.nids', 'Level3_TLX_N0B_20220504_1653.nids', 'Level3_TLX_N0B_20220504_1651.nids', 'Level3_TLX_N0B_20220504_1649.nids', 'Level3_TLX_N0B_20220504_1648.nids', 'Level3_TLX_N0B_20220504_1646.nids', 'Level3_TLX_N0B_20220504_1644.nids', 'Level3_TLX_N0B_20220504_1643.nids', 'Level3_TLX_N0B_20220504_1641.nids', 'Level3_TLX_N0B_20220504_1639.nids', 'Level3_TLX_N0B_20220504_1638.nids', 'Level3_TLX_N0B_20220504_1636.nids', 'Level3_TLX_N0B_20220504_1634.nids', 'Level3_TLX_N0B_20220504_1633.nids', 'Level3_TLX_N0B_20220504_1631.nids', 'Level3_TLX_N0B_20220504_1629.nids', 'Level3_TLX_N0B_20220504_1628.nids', 'Level3_TLX_N0B_20220504_1626.nids', 'Level3_TLX_N0B_20220504_1625.nids', 'Level3_TLX_N0B_20220504_1624.nids', 'Level3_TLX_N0B_20220504_1622.nids', 'Level3_TLX_N0B_20220504_1620.nids', 'Level3_TLX_N0B_20220504_1619.nids', 'Level3_TLX_N0B_20220504_1617.nids', 'Level3_TLX_N0B_20220504_1616.nids', 'Level3_TLX_N0B_20220504_1614.nids', 'Level3_TLX_N0B_20220504_1613.nids', 'Level3_TLX_N0B_20220504_1611.nids', 'Level3_TLX_N0B_20220504_1610.nids', 'Level3_TLX_N0B_20220504_1608.nids', 'Level3_TLX_N0B_20220504_1606.nids', 'Level3_TLX_N0B_20220504_1605.nids', 'Level3_TLX_N0B_20220504_1603.nids', 'Level3_TLX_N0B_20220504_1602.nids', 'Level3_TLX_N0B_20220504_1600.nids', 'Level3_TLX_N0B_20220504_1559.nids', 'Level3_TLX_N0B_20220504_1557.nids', 'Level3_TLX_N0B_20220504_1556.nids', 'Level3_TLX_N0B_20220504_1554.nids', 'Level3_TLX_N0B_20220504_1553.nids', 'Level3_TLX_N0B_20220504_1552.nids', 'Level3_TLX_N0B_20220504_1550.nids', 'Level3_TLX_N0B_20220504_1548.nids', 'Level3_TLX_N0B_20220504_1547.nids', 'Level3_TLX_N0B_20220504_1545.nids', 'Level3_TLX_N0B_20220504_1543.nids', 'Level3_TLX_N0B_20220504_1542.nids', 'Level3_TLX_N0B_20220504_1540.nids', 'Level3_TLX_N0B_20220504_1538.nids', 'Level3_TLX_N0B_20220504_1537.nids', 'Level3_TLX_N0B_20220504_1535.nids', 'Level3_TLX_N0B_20220504_1533.nids', 'Level3_TLX_N0B_20220504_1532.nids', 'Level3_TLX_N0B_20220504_1530.nids', 'Level3_TLX_N0B_20220504_1528.nids', 'Level3_TLX_N0B_20220504_1527.nids', 'Level3_TLX_N0B_20220504_1525.nids', 'Level3_TLX_N0B_20220504_1523.nids', 'Level3_TLX_N0B_20220504_1522.nids', 'Level3_TLX_N0B_20220504_1520.nids', 'Level3_TLX_N0B_20220504_1518.nids', 'Level3_TLX_N0B_20220504_1517.nids', 'Level3_TLX_N0B_20220504_1515.nids', 'Level3_TLX_N0B_20220504_1513.nids', 'Level3_TLX_N0B_20220504_1511.nids', 'Level3_TLX_N0B_20220504_1510.nids', 'Level3_TLX_N0B_20220504_1507.nids', 'Level3_TLX_N0B_20220504_1506.nids', 'Level3_TLX_N0B_20220504_1504.nids', 'Level3_TLX_N0B_20220504_1502.nids', 'Level3_TLX_N0B_20220504_1501.nids', 'Level3_TLX_N0B_20220504_1459.nids', 'Level3_TLX_N0B_20220504_1457.nids', 'Level3_TLX_N0B_20220504_1455.nids', 'Level3_TLX_N0B_20220504_1453.nids', 'Level3_TLX_N0B_20220504_1451.nids', 'Level3_TLX_N0B_20220504_1449.nids', 'Level3_TLX_N0B_20220504_1448.nids', 'Level3_TLX_N0B_20220504_1445.nids', 'Level3_TLX_N0B_20220504_1444.nids', 'Level3_TLX_N0B_20220504_1442.nids', 'Level3_TLX_N0B_20220504_1440.nids', 'Level3_TLX_N0B_20220504_1439.nids', 'Level3_TLX_N0B_20220504_1437.nids', 'Level3_TLX_N0B_20220504_1435.nids', 'Level3_TLX_N0B_20220504_1433.nids', 'Level3_TLX_N0B_20220504_1431.nids', 'Level3_TLX_N0B_20220504_1429.nids', 'Level3_TLX_N0B_20220504_1428.nids', 'Level3_TLX_N0B_20220504_1426.nids', 'Level3_TLX_N0B_20220504_1424.nids', 'Level3_TLX_N0B_20220504_1422.nids', 'Level3_TLX_N0B_20220504_1420.nids', 'Level3_TLX_N0B_20220504_1418.nids', 'Level3_TLX_N0B_20220504_1417.nids', 'Level3_TLX_N0B_20220504_1415.nids', 'Level3_TLX_N0B_20220504_1412.nids', 'Level3_TLX_N0B_20220504_1411.nids', 'Level3_TLX_N0B_20220504_1409.nids', 'Level3_TLX_N0B_20220504_1407.nids', 'Level3_TLX_N0B_20220504_1406.nids', 'Level3_TLX_N0B_20220504_1404.nids', 'Level3_TLX_N0B_20220504_1402.nids', 'Level3_TLX_N0B_20220504_1400.nids', 'Level3_TLX_N0B_20220504_1358.nids', 'Level3_TLX_N0B_20220504_1357.nids', 'Level3_TLX_N0B_20220504_1355.nids', 'Level3_TLX_N0B_20220504_1353.nids', 'Level3_TLX_N0B_20220504_1351.nids', 'Level3_TLX_N0B_20220504_1349.nids', 'Level3_TLX_N0B_20220504_1347.nids', 'Level3_TLX_N0B_20220504_1345.nids', 'Level3_TLX_N0B_20220504_1343.nids', 'Level3_TLX_N0B_20220504_1341.nids', 'Level3_TLX_N0B_20220504_1340.nids', 'Level3_TLX_N0B_20220504_1338.nids', 'Level3_TLX_N0B_20220504_1336.nids', 'Level3_TLX_N0B_20220504_1334.nids', 'Level3_TLX_N0B_20220504_1332.nids', 'Level3_TLX_N0B_20220504_1330.nids', 'Level3_TLX_N0B_20220504_1329.nids', 'Level3_TLX_N0B_20220504_1327.nids', 'Level3_TLX_N0B_20220504_1325.nids', 'Level3_TLX_N0B_20220504_1323.nids', 'Level3_TLX_N0B_20220504_1321.nids', 'Level3_TLX_N0B_20220504_1319.nids', 'Level3_TLX_N0B_20220504_1317.nids', 'Level3_TLX_N0B_20220504_1315.nids', 'Level3_TLX_N0B_20220504_1313.nids', 'Level3_TLX_N0B_20220504_1311.nids', 'Level3_TLX_N0B_20220504_1309.nids', 'Level3_TLX_N0B_20220504_1307.nids', 'Level3_TLX_N0B_20220504_1305.nids', 'Level3_TLX_N0B_20220504_1303.nids', 'Level3_TLX_N0B_20220504_1301.nids', 'Level3_TLX_N0B_20220504_1259.nids', 'Level3_TLX_N0B_20220504_1257.nids', 'Level3_TLX_N0B_20220504_1255.nids', 'Level3_TLX_N0B_20220504_1253.nids', 'Level3_TLX_N0B_20220504_1251.nids', 'Level3_TLX_N0B_20220504_1249.nids', 'Level3_TLX_N0B_20220504_1247.nids', 'Level3_TLX_N0B_20220504_1245.nids', 'Level3_TLX_N0B_20220504_1243.nids', 'Level3_TLX_N0B_20220504_1241.nids', 'Level3_TLX_N0B_20220504_1239.nids', 'Level3_TLX_N0B_20220504_1237.nids', 'Level3_TLX_N0B_20220504_1235.nids', 'Level3_TLX_N0B_20220504_1233.nids', 'Level3_TLX_N0B_20220504_1231.nids', 'Level3_TLX_N0B_20220504_1229.nids', 'Level3_TLX_N0B_20220504_1227.nids', 'Level3_TLX_N0B_20220504_1225.nids', 'Level3_TLX_N0B_20220504_1223.nids', 'Level3_TLX_N0B_20220504_1221.nids', 'Level3_TLX_N0B_20220504_1219.nids', 'Level3_TLX_N0B_20220504_1217.nids', 'Level3_TLX_N0B_20220504_1216.nids', 'Level3_TLX_N0B_20220504_1213.nids', 'Level3_TLX_N0B_20220504_1212.nids', 'Level3_TLX_N0B_20220504_1210.nids', 'Level3_TLX_N0B_20220504_1208.nids', 'Level3_TLX_N0B_20220504_1206.nids', 'Level3_TLX_N0B_20220504_1204.nids', 'Level3_TLX_N0B_20220504_1202.nids', 'Level3_TLX_N0B_20220504_1200.nids', 'Level3_TLX_N0B_20220504_1158.nids', 'Level3_TLX_N0B_20220504_1156.nids', 'Level3_TLX_N0B_20220504_1154.nids', 'Level3_TLX_N0B_20220504_1152.nids', 'Level3_TLX_N0B_20220504_1150.nids', 'Level3_TLX_N0B_20220504_1148.nids', 'Level3_TLX_N0B_20220504_1146.nids', 'Level3_TLX_N0B_20220504_1144.nids', 'Level3_TLX_N0B_20220504_1142.nids', 'Level3_TLX_N0B_20220504_1140.nids', 'Level3_TLX_N0B_20220504_1137.nids', 'Level3_TLX_N0B_20220504_1135.nids', 'Level3_TLX_N0B_20220504_1133.nids', 'Level3_TLX_N0B_20220504_1131.nids', 'Level3_TLX_N0B_20220504_1129.nids', 'Level3_TLX_N0B_20220504_1127.nids', 'Level3_TLX_N0B_20220504_1125.nids', 'Level3_TLX_N0B_20220504_1123.nids', 'Level3_TLX_N0B_20220504_1121.nids', 'Level3_TLX_N0B_20220504_1119.nids', 'Level3_TLX_N0B_20220504_1117.nids', 'Level3_TLX_N0B_20220504_1115.nids', 'Level3_TLX_N0B_20220504_1113.nids', 'Level3_TLX_N0B_20220504_1111.nids', 'Level3_TLX_N0B_20220504_1109.nids', 'Level3_TLX_N0B_20220504_1107.nids', 'Level3_TLX_N0B_20220504_1105.nids', 'Level3_TLX_N0B_20220504_1103.nids', 'Level3_TLX_N0B_20220504_1101.nids', 'Level3_TLX_N0B_20220504_1059.nids', 'Level3_TLX_N0B_20220504_1057.nids', 'Level3_TLX_N0B_20220504_1055.nids', 'Level3_TLX_N0B_20220504_1053.nids', 'Level3_TLX_N0B_20220504_1051.nids', 'Level3_TLX_N0B_20220504_1049.nids', 'Level3_TLX_N0B_20220504_1047.nids', 'Level3_TLX_N0B_20220504_1045.nids', 'Level3_TLX_N0B_20220504_1043.nids', 'Level3_TLX_N0B_20220504_1041.nids', 'Level3_TLX_N0B_20220504_1040.nids', 'Level3_TLX_N0B_20220504_1038.nids', 'Level3_TLX_N0B_20220504_1036.nids', 'Level3_TLX_N0B_20220504_1034.nids', 'Level3_TLX_N0B_20220504_1032.nids', 'Level3_TLX_N0B_20220504_1030.nids', 'Level3_TLX_N0B_20220504_1028.nids', 'Level3_TLX_N0B_20220504_1026.nids', 'Level3_TLX_N0B_20220504_1024.nids', 'Level3_TLX_N0B_20220504_1022.nids', 'Level3_TLX_N0B_20220504_1020.nids', 'Level3_TLX_N0B_20220504_1018.nids', 'Level3_TLX_N0B_20220504_1016.nids', 'Level3_TLX_N0B_20220504_1014.nids', 'Level3_TLX_N0B_20220504_1012.nids', 'Level3_TLX_N0B_20220504_1010.nids', 'Level3_TLX_N0B_20220504_1008.nids', 'Level3_TLX_N0B_20220504_1006.nids', 'Level3_TLX_N0B_20220504_1004.nids', 'Level3_TLX_N0B_20220504_1002.nids', 'Level3_TLX_N0B_20220504_1000.nids', 'Level3_TLX_N0B_20220504_0958.nids', 'Level3_TLX_N0B_20220504_0955.nids', 'Level3_TLX_N0B_20220504_0954.nids', 'Level3_TLX_N0B_20220504_0952.nids', 'Level3_TLX_N0B_20220504_0949.nids', 'Level3_TLX_N0B_20220504_0947.nids', 'Level3_TLX_N0B_20220504_0945.nids', 'Level3_TLX_N0B_20220504_0943.nids', 'Level3_TLX_N0B_20220504_0941.nids', 'Level3_TLX_N0B_20220504_0939.nids', 'Level3_TLX_N0B_20220504_0937.nids', 'Level3_TLX_N0B_20220504_0935.nids', 'Level3_TLX_N0B_20220504_0933.nids', 'Level3_TLX_N0B_20220504_0931.nids', 'Level3_TLX_N0B_20220504_0928.nids', 'Level3_TLX_N0B_20220504_0927.nids', 'Level3_TLX_N0B_20220504_0925.nids', 'Level3_TLX_N0B_20220504_0923.nids', 'Level3_TLX_N0B_20220504_0921.nids', 'Level3_TLX_N0B_20220504_0912.nids', 'Level3_TLX_N0B_20220504_0902.nids', 'Level3_TLX_N0B_20220504_0852.nids', 'Level3_TLX_N0B_20220504_0843.nids', 'Level3_TLX_N0B_20220504_0833.nids', 'Level3_TLX_N0B_20220504_0824.nids', 'Level3_TLX_N0B_20220504_0814.nids', 'Level3_TLX_N0B_20220504_0804.nids', 'Level3_TLX_N0B_20220504_0755.nids', 'Level3_TLX_N0B_20220504_0745.nids', 'Level3_TLX_N0B_20220504_0736.nids', 'Level3_TLX_N0B_20220504_0726.nids', 'Level3_TLX_N0B_20220504_0716.nids', 'Level3_TLX_N0B_20220504_0707.nids', 'Level3_TLX_N0B_20220504_0657.nids', 'Level3_TLX_N0B_20220504_0648.nids', 'Level3_TLX_N0B_20220504_0638.nids', 'Level3_TLX_N0B_20220504_0628.nids', 'Level3_TLX_N0B_20220504_0619.nids', 'Level3_TLX_N0B_20220504_0609.nids', 'Level3_TLX_N0B_20220504_0600.nids', 'Level3_TLX_N0B_20220504_0550.nids', 'Level3_TLX_N0B_20220504_0540.nids', 'Level3_TLX_N0B_20220504_0531.nids', 'Level3_TLX_N0B_20220504_0521.nids', 'Level3_TLX_N0B_20220504_0512.nids', 'Level3_TLX_N0B_20220504_0502.nids', 'Level3_TLX_N0B_20220504_0452.nids', 'Level3_TLX_N0B_20220504_0443.nids', 'Level3_TLX_N0B_20220504_0433.nids', 'Level3_TLX_N0B_20220504_0424.nids', 'Level3_TLX_N0B_20220504_0414.nids', 'Level3_TLX_N0B_20220504_0404.nids', 'Level3_TLX_N0B_20220504_0355.nids', 'Level3_TLX_N0B_20220504_0345.nids', 'Level3_TLX_N0B_20220504_0336.nids', 'Level3_TLX_N0B_20220504_0325.nids', 'Level3_TLX_N0B_20220504_0315.nids', 'Level3_TLX_N0B_20220504_0305.nids', 'Level3_TLX_N0B_20220504_0256.nids', 'Level3_TLX_N0B_20220504_0246.nids', 'Level3_TLX_N0B_20220504_0237.nids', 'Level3_TLX_N0B_20220504_0227.nids', 'Level3_TLX_N0B_20220504_0217.nids', 'Level3_TLX_N0B_20220504_0208.nids', 'Level3_TLX_N0B_20220504_0158.nids', 'Level3_TLX_N0B_20220504_0149.nids', 'Level3_TLX_N0B_20220504_0139.nids', 'Level3_TLX_N0B_20220504_0129.nids', 'Level3_TLX_N0B_20220504_0120.nids', 'Level3_TLX_N0B_20220504_0110.nids', 'Level3_TLX_N0B_20220504_0101.nids', 'Level3_TLX_N0B_20220504_0051.nids', 'Level3_TLX_N0B_20220504_0041.nids', 'Level3_TLX_N0B_20220504_0032.nids', 'Level3_TLX_N0B_20220504_0022.nids', 'Level3_TLX_N0B_20220504_0013.nids', 'Level3_TLX_N0B_20220504_0003.nids']\n"
     ]
    }
   ],
   "source": [
    "print(cat.datasets)"
   ]
  },
  {
   "cell_type": "code",
   "execution_count": 116,
   "id": "46507098",
   "metadata": {},
   "outputs": [
    {
     "name": "stdout",
     "output_type": "stream",
     "text": [
      "Total files: 324\n"
     ]
    }
   ],
   "source": [
    "print('Total files: ' + str(len(cat.datasets)))"
   ]
  },
  {
   "cell_type": "code",
   "execution_count": 117,
   "id": "8ccfdc1f",
   "metadata": {},
   "outputs": [
    {
     "data": {
      "text/plain": [
       "{'OPENDAP': 'https://thredds.ucar.edu/thredds/dodsC/nexrad/level3/N0B/TLX/20220504/Level3_TLX_N0B_20220504_1728.nids',\n",
       " 'HTTPServer': 'https://thredds.ucar.edu/thredds/fileServer/nexrad/level3/N0B/TLX/20220504/Level3_TLX_N0B_20220504_1728.nids',\n",
       " 'CdmRemote': 'https://thredds.ucar.edu/thredds/cdmremote/nexrad/level3/N0B/TLX/20220504/Level3_TLX_N0B_20220504_1728.nids',\n",
       " 'NCML': 'https://thredds.ucar.edu/thredds/ncml/nexrad/level3/N0B/TLX/20220504/Level3_TLX_N0B_20220504_1728.nids',\n",
       " 'UDDC': 'https://thredds.ucar.edu/thredds/uddc/nexrad/level3/N0B/TLX/20220504/Level3_TLX_N0B_20220504_1728.nids',\n",
       " 'ISO': 'https://thredds.ucar.edu/thredds/iso/nexrad/level3/N0B/TLX/20220504/Level3_TLX_N0B_20220504_1728.nids'}"
      ]
     },
     "execution_count": 117,
     "metadata": {},
     "output_type": "execute_result"
    }
   ],
   "source": [
    "ds = cat.datasets[0]\n",
    "ds.access_urls"
   ]
  },
  {
   "cell_type": "code",
   "execution_count": 118,
   "id": "06265851",
   "metadata": {},
   "outputs": [],
   "source": [
    "from datetime import datetime\n"
   ]
  },
  {
   "cell_type": "code",
   "execution_count": 119,
   "id": "91b30b77",
   "metadata": {},
   "outputs": [],
   "source": [
    "import xarray as xr"
   ]
  },
  {
   "cell_type": "code",
   "execution_count": 120,
   "id": "1a498acc",
   "metadata": {},
   "outputs": [],
   "source": [
    "from metpy.units import units"
   ]
  },
  {
   "cell_type": "code",
   "execution_count": 121,
   "id": "67d453cb",
   "metadata": {},
   "outputs": [],
   "source": [
    " \n",
    "from siphon.radarserver import RadarServer"
   ]
  },
  {
   "cell_type": "code",
   "execution_count": 122,
   "id": "e8472fe0",
   "metadata": {},
   "outputs": [],
   "source": [
    "cat = TDSCatalog('https://thredds.ucar.edu/thredds/radarServer/catalog.xml')"
   ]
  },
  {
   "cell_type": "code",
   "execution_count": 123,
   "id": "ca30235e",
   "metadata": {},
   "outputs": [
    {
     "data": {
      "text/plain": [
       "['NEXRAD Level II Radar for Case Study CCS039',\n",
       " 'NEXRAD Level II Radar from IDD',\n",
       " 'NEXRAD Level III Radar for Case Study CCS039',\n",
       " 'NEXRAD Level III Radar from IDD',\n",
       " 'TDWR Level III Radar from IDD']"
      ]
     },
     "execution_count": 123,
     "metadata": {},
     "output_type": "execute_result"
    }
   ],
   "source": [
    "list(cat.catalog_refs)"
   ]
  },
  {
   "cell_type": "code",
   "execution_count": 124,
   "id": "a653435b",
   "metadata": {},
   "outputs": [
    {
     "data": {
      "text/plain": [
       "'https://thredds.ucar.edu/thredds/radarServer/nexrad/level3/IDD/dataset.xml'"
      ]
     },
     "execution_count": 124,
     "metadata": {},
     "output_type": "execute_result"
    }
   ],
   "source": [
    "cat.catalog_refs['NEXRAD Level III Radar from IDD'].href"
   ]
  },
  {
   "cell_type": "code",
   "execution_count": 125,
   "id": "0b5e50d4",
   "metadata": {},
   "outputs": [],
   "source": [
    "rs= RadarServer(cat.catalog_refs['NEXRAD Level III Radar from IDD'].href)"
   ]
  },
  {
   "cell_type": "code",
   "execution_count": 126,
   "id": "39bbc356",
   "metadata": {},
   "outputs": [],
   "source": [
    "from datetime import datetime,timedelta"
   ]
  },
  {
   "cell_type": "code",
   "execution_count": 127,
   "id": "d46c078a",
   "metadata": {},
   "outputs": [
    {
     "data": {
      "text/plain": [
       "var=N0B&time_start=2022-05-04T16%3A29%3A24.022526&time_end=2022-05-04T17%3A29%3A24.022526&stn=TLX"
      ]
     },
     "execution_count": 127,
     "metadata": {},
     "output_type": "execute_result"
    }
   ],
   "source": [
    "query = rs.query()\n",
    "now=datetime.utcnow()\n",
    "query.stations('TLX').time_range(now - timedelta(hours=1), now).variables('N0B')"
   ]
  },
  {
   "cell_type": "code",
   "execution_count": 128,
   "id": "307890ef",
   "metadata": {},
   "outputs": [],
   "source": [
    "query_cat = rs.get_catalog(query)"
   ]
  },
  {
   "cell_type": "code",
   "execution_count": 129,
   "id": "019c78ce",
   "metadata": {},
   "outputs": [
    {
     "data": {
      "text/plain": [
       "['Level3_TLX_N0B_20220504_1631.nids',\n",
       " 'Level3_TLX_N0B_20220504_1633.nids',\n",
       " 'Level3_TLX_N0B_20220504_1634.nids',\n",
       " 'Level3_TLX_N0B_20220504_1636.nids',\n",
       " 'Level3_TLX_N0B_20220504_1638.nids',\n",
       " 'Level3_TLX_N0B_20220504_1639.nids',\n",
       " 'Level3_TLX_N0B_20220504_1641.nids',\n",
       " 'Level3_TLX_N0B_20220504_1643.nids',\n",
       " 'Level3_TLX_N0B_20220504_1644.nids',\n",
       " 'Level3_TLX_N0B_20220504_1646.nids',\n",
       " 'Level3_TLX_N0B_20220504_1648.nids',\n",
       " 'Level3_TLX_N0B_20220504_1649.nids',\n",
       " 'Level3_TLX_N0B_20220504_1651.nids',\n",
       " 'Level3_TLX_N0B_20220504_1653.nids',\n",
       " 'Level3_TLX_N0B_20220504_1654.nids',\n",
       " 'Level3_TLX_N0B_20220504_1656.nids',\n",
       " 'Level3_TLX_N0B_20220504_1658.nids',\n",
       " 'Level3_TLX_N0B_20220504_1659.nids',\n",
       " 'Level3_TLX_N0B_20220504_1701.nids',\n",
       " 'Level3_TLX_N0B_20220504_1702.nids',\n",
       " 'Level3_TLX_N0B_20220504_1704.nids',\n",
       " 'Level3_TLX_N0B_20220504_1705.nids',\n",
       " 'Level3_TLX_N0B_20220504_1707.nids',\n",
       " 'Level3_TLX_N0B_20220504_1709.nids',\n",
       " 'Level3_TLX_N0B_20220504_1711.nids',\n",
       " 'Level3_TLX_N0B_20220504_1712.nids',\n",
       " 'Level3_TLX_N0B_20220504_1713.nids',\n",
       " 'Level3_TLX_N0B_20220504_1715.nids',\n",
       " 'Level3_TLX_N0B_20220504_1717.nids',\n",
       " 'Level3_TLX_N0B_20220504_1718.nids',\n",
       " 'Level3_TLX_N0B_20220504_1720.nids',\n",
       " 'Level3_TLX_N0B_20220504_1722.nids',\n",
       " 'Level3_TLX_N0B_20220504_1723.nids',\n",
       " 'Level3_TLX_N0B_20220504_1725.nids',\n",
       " 'Level3_TLX_N0B_20220504_1726.nids',\n",
       " 'Level3_TLX_N0B_20220504_1728.nids']"
      ]
     },
     "execution_count": 129,
     "metadata": {},
     "output_type": "execute_result"
    }
   ],
   "source": [
    "sorted(query_cat.datasets)"
   ]
  },
  {
   "cell_type": "code",
   "execution_count": 130,
   "id": "affb7778",
   "metadata": {},
   "outputs": [
    {
     "data": {
      "text/plain": [
       "var=N0B&time_start=2022-05-04T16%3A29%3A24.022526&time_end=2022-05-04T17%3A29%3A24.022526&stn=TLX"
      ]
     },
     "execution_count": 130,
     "metadata": {},
     "output_type": "execute_result"
    }
   ],
   "source": [
    "#query.stations('TLX','LTX').time_range(now - timedelta(hours=1), now).variables('N0B', 'N0C')\n",
    "query.stations('TLX').time_range(now - timedelta(hours=1), now).variables('N0B')"
   ]
  },
  {
   "cell_type": "code",
   "execution_count": 131,
   "id": "965b2c01",
   "metadata": {},
   "outputs": [
    {
     "data": {
      "text/plain": [
       "['Level3_TLX_N0B_20220504_1631.nids',\n",
       " 'Level3_TLX_N0B_20220504_1633.nids',\n",
       " 'Level3_TLX_N0B_20220504_1634.nids',\n",
       " 'Level3_TLX_N0B_20220504_1636.nids',\n",
       " 'Level3_TLX_N0B_20220504_1638.nids',\n",
       " 'Level3_TLX_N0B_20220504_1639.nids',\n",
       " 'Level3_TLX_N0B_20220504_1641.nids',\n",
       " 'Level3_TLX_N0B_20220504_1643.nids',\n",
       " 'Level3_TLX_N0B_20220504_1644.nids',\n",
       " 'Level3_TLX_N0B_20220504_1646.nids',\n",
       " 'Level3_TLX_N0B_20220504_1648.nids',\n",
       " 'Level3_TLX_N0B_20220504_1649.nids',\n",
       " 'Level3_TLX_N0B_20220504_1651.nids',\n",
       " 'Level3_TLX_N0B_20220504_1653.nids',\n",
       " 'Level3_TLX_N0B_20220504_1654.nids',\n",
       " 'Level3_TLX_N0B_20220504_1656.nids',\n",
       " 'Level3_TLX_N0B_20220504_1658.nids',\n",
       " 'Level3_TLX_N0B_20220504_1659.nids',\n",
       " 'Level3_TLX_N0B_20220504_1701.nids',\n",
       " 'Level3_TLX_N0B_20220504_1702.nids',\n",
       " 'Level3_TLX_N0B_20220504_1704.nids',\n",
       " 'Level3_TLX_N0B_20220504_1705.nids',\n",
       " 'Level3_TLX_N0B_20220504_1707.nids',\n",
       " 'Level3_TLX_N0B_20220504_1709.nids',\n",
       " 'Level3_TLX_N0B_20220504_1711.nids',\n",
       " 'Level3_TLX_N0B_20220504_1712.nids',\n",
       " 'Level3_TLX_N0B_20220504_1713.nids',\n",
       " 'Level3_TLX_N0B_20220504_1715.nids',\n",
       " 'Level3_TLX_N0B_20220504_1717.nids',\n",
       " 'Level3_TLX_N0B_20220504_1718.nids',\n",
       " 'Level3_TLX_N0B_20220504_1720.nids',\n",
       " 'Level3_TLX_N0B_20220504_1722.nids',\n",
       " 'Level3_TLX_N0B_20220504_1723.nids',\n",
       " 'Level3_TLX_N0B_20220504_1725.nids',\n",
       " 'Level3_TLX_N0B_20220504_1726.nids',\n",
       " 'Level3_TLX_N0B_20220504_1728.nids']"
      ]
     },
     "execution_count": 131,
     "metadata": {},
     "output_type": "execute_result"
    }
   ],
   "source": [
    "query_cat = rs.get_catalog(query)\n",
    "\n",
    "sorted(query_cat.datasets)"
   ]
  },
  {
   "cell_type": "code",
   "execution_count": 132,
   "id": "9d294a74",
   "metadata": {},
   "outputs": [],
   "source": [
    "#product_codes = ['NCR', 'N0B','N0C']\n",
    "product_codes = ['N0B']\n",
    "query_catalogs=dict()\n",
    "for product_code in product_codes:\n",
    "    query.stations('TLX').time_range(now - timedelta(hours=1), now).variables(product_code)\n",
    "    query_cat = rs.get_catalog(query)\n",
    "    query_catalogs[product_code]=query_cat\n",
    "    \n"
   ]
  },
  {
   "cell_type": "code",
   "execution_count": 133,
   "id": "fe2f2765",
   "metadata": {},
   "outputs": [
    {
     "data": {
      "text/plain": [
       "{'N0B': Radar NEXRAD Level III Radar from IDD datasets in near real time}"
      ]
     },
     "execution_count": 133,
     "metadata": {},
     "output_type": "execute_result"
    }
   ],
   "source": [
    "query_catalogs"
   ]
  },
  {
   "cell_type": "code",
   "execution_count": 134,
   "id": "ee975890",
   "metadata": {},
   "outputs": [
    {
     "data": {
      "text/plain": [
       "['Level3_TLX_N0B_20220504_1631.nids',\n",
       " 'Level3_TLX_N0B_20220504_1633.nids',\n",
       " 'Level3_TLX_N0B_20220504_1634.nids',\n",
       " 'Level3_TLX_N0B_20220504_1636.nids',\n",
       " 'Level3_TLX_N0B_20220504_1638.nids',\n",
       " 'Level3_TLX_N0B_20220504_1639.nids',\n",
       " 'Level3_TLX_N0B_20220504_1641.nids',\n",
       " 'Level3_TLX_N0B_20220504_1643.nids',\n",
       " 'Level3_TLX_N0B_20220504_1644.nids',\n",
       " 'Level3_TLX_N0B_20220504_1646.nids',\n",
       " 'Level3_TLX_N0B_20220504_1648.nids',\n",
       " 'Level3_TLX_N0B_20220504_1649.nids',\n",
       " 'Level3_TLX_N0B_20220504_1651.nids',\n",
       " 'Level3_TLX_N0B_20220504_1653.nids',\n",
       " 'Level3_TLX_N0B_20220504_1654.nids',\n",
       " 'Level3_TLX_N0B_20220504_1656.nids',\n",
       " 'Level3_TLX_N0B_20220504_1658.nids',\n",
       " 'Level3_TLX_N0B_20220504_1659.nids',\n",
       " 'Level3_TLX_N0B_20220504_1701.nids',\n",
       " 'Level3_TLX_N0B_20220504_1702.nids',\n",
       " 'Level3_TLX_N0B_20220504_1704.nids',\n",
       " 'Level3_TLX_N0B_20220504_1705.nids',\n",
       " 'Level3_TLX_N0B_20220504_1707.nids',\n",
       " 'Level3_TLX_N0B_20220504_1709.nids',\n",
       " 'Level3_TLX_N0B_20220504_1711.nids',\n",
       " 'Level3_TLX_N0B_20220504_1712.nids',\n",
       " 'Level3_TLX_N0B_20220504_1713.nids',\n",
       " 'Level3_TLX_N0B_20220504_1715.nids',\n",
       " 'Level3_TLX_N0B_20220504_1717.nids',\n",
       " 'Level3_TLX_N0B_20220504_1718.nids',\n",
       " 'Level3_TLX_N0B_20220504_1720.nids',\n",
       " 'Level3_TLX_N0B_20220504_1722.nids',\n",
       " 'Level3_TLX_N0B_20220504_1723.nids',\n",
       " 'Level3_TLX_N0B_20220504_1725.nids',\n",
       " 'Level3_TLX_N0B_20220504_1726.nids',\n",
       " 'Level3_TLX_N0B_20220504_1728.nids']"
      ]
     },
     "execution_count": 134,
     "metadata": {},
     "output_type": "execute_result"
    }
   ],
   "source": [
    "sorted(query_catalogs['N0B'].datasets)"
   ]
  },
  {
   "cell_type": "code",
   "execution_count": 135,
   "id": "08b14e8b",
   "metadata": {},
   "outputs": [],
   "source": [
    "import cartopy\n",
    "import matplotlib.pyplot as plt\n",
    "import numpy as np\n",
    "from siphon.cdmr import Dataset\n",
    "\n",
    "%matplotlib inline\n",
    "#"
   ]
  },
  {
   "cell_type": "code",
   "execution_count": 136,
   "id": "0cb9b722",
   "metadata": {},
   "outputs": [
    {
     "name": "stdout",
     "output_type": "stream",
     "text": [
      "['elevation', 'azimuth', 'gate', 'latitude', 'longitude', 'altitude', 'rays_time', 'BaseReflectivityDR_RAW', 'BaseReflectivityDR']\n"
     ]
    }
   ],
   "source": [
    "data = query_cat.datasets[0].remote_access()\n",
    "print(list(data.variables))"
   ]
  },
  {
   "cell_type": "code",
   "execution_count": 137,
   "id": "9d9f5abe",
   "metadata": {},
   "outputs": [],
   "source": [
    "field_name = 'BaseReflectivityDR'\n",
    "#field_name = 'CorrelationCoefficient'\n",
    "\n",
    "range_data = data.variables['gate'][:]\n",
    "azimuth_data = data.variables['azimuth'][:]\n",
    "radar_data = data.variables[field_name][:]\n"
   ]
  },
  {
   "cell_type": "code",
   "execution_count": 138,
   "id": "b6c3f46b",
   "metadata": {},
   "outputs": [],
   "source": [
    "x = range_data * np.sin(np.deg2rad(azimuth_data))[:,None]\n",
    "\n",
    "y = range_data * np.cos(np.deg2rad(azimuth_data))[:,None]"
   ]
  },
  {
   "cell_type": "code",
   "execution_count": 139,
   "id": "43366915",
   "metadata": {},
   "outputs": [],
   "source": [
    "radar_data = np.ma.array(radar_data, mask = np.isnan(radar_data))"
   ]
  },
  {
   "cell_type": "code",
   "execution_count": 140,
   "id": "89bdf97f",
   "metadata": {},
   "outputs": [],
   "source": [
    "proj = cartopy.crs.LambertConformal(central_longitude=data.RadarLongitude,\n",
    "                                  central_latitude=data.RadarLatitude)"
   ]
  },
  {
   "cell_type": "code",
   "execution_count": 141,
   "id": "d10b564e",
   "metadata": {},
   "outputs": [
    {
     "name": "stdout",
     "output_type": "stream",
     "text": [
      "2022-05-04T17:18:36Z\n",
      "2022-05-04 17:18:36\n"
     ]
    }
   ],
   "source": [
    "print(data.time_coverage_start)\n",
    "data_time = datetime.strptime(data.time_coverage_start, '%Y-%m-%dT%H:%M:%SZ')\n",
    "print(data_time)"
   ]
  },
  {
   "cell_type": "code",
   "execution_count": 142,
   "id": "a8715c9f",
   "metadata": {},
   "outputs": [
    {
     "data": {
      "image/png": "[encoded data removed]",
      "text/plain": [
       "<Figure size 720x720 with 1 Axes>"
      ]
     },
     "metadata": {
      "needs_background": "light"
     },
     "output_type": "display_data"
    }
   ],
   "source": [
    "from metpy.plots import ctables, add_timestamp, add_metpy_logo\n",
    "\n",
    "state_borders = cartopy.feature.NaturalEarthFeature( category='cultural', \n",
    "                                                    name='admin_1_states_provinces_lakes',\n",
    "                                                   scale='50m', facecolor='none')\n",
    "\n",
    "fig = plt.figure(figsize=(10,10))\n",
    "ax = plt.subplot(1, 1, 1, projection=proj)\n",
    "\n",
    "norm, cmap = ctables.registry.get_with_steps('NWSReflectivity', 16, 16)\n",
    "mesh = ax.pcolormesh(x, y, radar_data, norm=norm, cmap=cmap, zorder=0)\n",
    "add_timestamp(ax, time=data_time)\n",
    "add_metpy_logo(fig, y=30)\n",
    "ax.add_feature(state_borders, edgecolor='black', linewidth=2, zorder=2)\n",
    "\n",
    "distance_in_degrees = 2.7\n",
    "ax.set_extent([data.RadarLongitude - distance_in_degrees,\n",
    "              data.RadarLongitude + distance_in_degrees,\n",
    "              data.RadarLatitude - distance_in_degrees,\n",
    "              data.RadarLatitude + distance_in_degrees ])"
   ]
  },
  {
   "cell_type": "code",
   "execution_count": null,
   "id": "55390f04",
   "metadata": {},
   "outputs": [],
   "source": []
  }
 ],
 "metadata": {
  "kernelspec": {
   "display_name": "Python 3",
   "language": "python",
   "name": "python3"
  },
  "language_info": {
   "codemirror_mode": {
    "name": "ipython",
    "version": 3
   },
   "file_extension": ".py",
   "mimetype": "text/x-python",
   "name": "python",
   "nbconvert_exporter": "python",
   "pygments_lexer": "ipython3",
   "version": "3.8.8"
  }
 },
 "nbformat": 4,
 "nbformat_minor": 5
}
